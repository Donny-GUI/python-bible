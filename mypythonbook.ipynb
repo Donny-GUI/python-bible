{
 "cells": [
  {
   "cell_type": "code",
   "execution_count": 2,
   "metadata": {},
   "outputs": [],
   "source": [
    "import PySimpleGUI as sg\n",
    "\n",
    "python_keywords = {\n",
    "        'await':\"await for the execute of an object\",\n",
    "        'import':\"import keyword is used to import modules into the current namespace\",\n",
    "        'pass':\"pass is a null statement in Python. Nothing happens when it is executed. It is used as a placeholder.\",\n",
    "        'None':\"None is a special constant in Python that represents the absence of a value or a null value.It is an object of its own datatype, the NoneType. We cannot create multiple None objects but can assign it to variables. These variables will be equal to one another.\",\n",
    "        'break':\"break will end the smallest loop it is in and control flows to the statement immediately below the loop. continue causes to end the current iteration of the loop, but not the whole loop.\",\n",
    "        'except':\"except, raise, try are used with exceptions in Python.Exceptions are basically errors that suggests something went wrong while executing our program. IOError, ValueError, ZeroDivisionError, ImportError, NameError, TypeError etc. are few examples of exception in Python. try...except blocks are used to catch exceptions in Python. We can raise an exception explicitly with the raise keywor\",\n",
    "        'in':\"used to test if a sequence (list, tuple, string etc.) contains a value. It returns True if the value is present, else it returns False\",\n",
    "        'raise':\"except, raise, try are used with exceptions in Python.Exceptions are basically errors that suggests something went wrong while executing our program. IOError, ValueError, ZeroDivisionError, ImportError, NameError, TypeError etc. are few examples of exception in Python. try...except blocks are used to catch exceptions in Python.We can raise an exception explicitly with the raise keyword\",\n",
    "        'class':\"used to define a new user-defined class in Python. Class is a collection of related attributes and methods that try to represent a real-world situation. This idea of putting data and functions together in a class is central to the concept of object-oriented programming (OOP).\",\n",
    "        'finally':\"finally is used with try…except block to close up resources or file streams.Using finally ensures that the block of code inside it gets executed even if there is an unhandled exception\",\n",
    "        'is':\"used in Python for testing object identity. While the == operator is used to test if two variables are equal or not, is is used to test if the two variables refer to the same object.\",\n",
    "        'return':\"return statement is used inside a function to exit it and return a value.If we do not return a value explicitly, None is returned automatically.\",\n",
    "        'continue':\"break will end the smallest loop it is in and control flows to the statement immediately below the loop. continue causes to end the current iteration of the loop, but not the whole loop.\",\n",
    "        'for':\"Generally we use for when we know the number of times we want to loop.\",\n",
    "        'lambda':\"lambda is used to create an anonymous function (function with no name). It is an inline function that does not contain a return statement. It consists of an expression that is evaluated and returned. \",\n",
    "        'try':\"except, raise, try are used with exceptions in Python.Exceptions are basically errors that suggests something went wrong while executing our program. IOError, ValueError, ZeroDivisionError, ImportError, NameError, TypeError etc. are few examples of exception in Python. try...except blocks are used to catch exceptions in Python.We can raise an exception explicitly with the raise keyword\",\n",
    "        'as':\"as is used to create an alias while importing a module. It means giving a different name (user-defined) to a module while importing it.\",\n",
    "        'def':\"used to define a user-defined function.\",\n",
    "        'from':\"from…import is used to import specific attributes or functions into the current namespace.\",\n",
    "        'nonlocal':\"nonlocal is used to declare that a variable inside a nested function (function inside a function) is not local to it, meaning it lies in the outer inclosing function. If we need to modify the value of a non-local variable inside a nested function, then we must declare it with nonlocal\",\n",
    "        'while':\"while is used for looping in Python.The statements inside a while loop continue to execute until the condition for the while loop evaluates to False or a break statement is encountered.\",\n",
    "        'assert':\" for debugging purposes.While programming, sometimes we wish to know the internal state or check if our assumptions are true. assert helps us do this and find bugs more conveniently. assert is followed by a condition.\",\n",
    "        'del':\"used to delete the reference to an object. Everything is object in Python. We can delete a variable reference using del\",\n",
    "        'global':\"global is used to declare that a variable inside the function is global (outside the function).If we need to read the value of a global variable, it is not necessary to define it as global. This is understood.If we need to modify the value of a global variable inside a function, then we must declare it with global. Otherwise, a local variable with that name is created.Following example will help us clarify this.\",\n",
    "        'not':\"not operator is used to invert the truth value. \",\n",
    "        'with':\"with statement is used to wrap the execution of a block of code within methods defined by the context manager.Context manager is a class that implements __enter__ and __exit__ methods. Use of with statement ensures that the __exit__ method is called at the end of the nested block. This concept is similar to the use of try…finally block\",\n",
    "        'async':\"The async and await keywords are provided by the asyncio library in Python. They are used to write concurrent code in Python\",\n",
    "        'elif ':\" used for conditional branching or decision making.\",\n",
    "        'if':\" used for conditional branching or decision making.\",\n",
    "        'yield':'used inside a function like a return statement. But yield returns a generator.Generator is an iterator that generates one item at a time. A large list of values will take up a lot of memory. Generators are useful in this situation as it generates only one value at a time instead of storing all the values in memory',\n",
    "}\n",
    "\n",
    "def main():\n",
    "    layout=[\n",
    "        [sg.Multiline(\"\",key=\"-text\"), sg.Listbox(python_keywords)],\n",
    "        []\n",
    "    ]\n",
    "    window = sg.Window(\"python keywords\", layout)\n",
    "    while True:\n",
    "        event, values = window.read()\n",
    "        if event == sg.WIN_CLOSED or event == 'Exit':\n",
    "            break\n",
    "        if event == \"-text\":\n",
    "            x = values[\"-text\"]\n",
    "            window['-text'].update(python_keywords[f\"{x}\"])\n",
    "        "
   ]
  }
 ],
 "metadata": {
  "kernelspec": {
   "display_name": "Python 3.10.6 64-bit",
   "language": "python",
   "name": "python3"
  },
  "language_info": {
   "codemirror_mode": {
    "name": "ipython",
    "version": 3
   },
   "file_extension": ".py",
   "mimetype": "text/x-python",
   "name": "python",
   "nbconvert_exporter": "python",
   "pygments_lexer": "ipython3",
   "version": "3.10.6"
  },
  "orig_nbformat": 4,
  "vscode": {
   "interpreter": {
    "hash": "916dbcbb3f70747c44a77c7bcd40155683ae19c65e1c03b4aa3499c5328201f1"
   }
  }
 },
 "nbformat": 4,
 "nbformat_minor": 2
}
